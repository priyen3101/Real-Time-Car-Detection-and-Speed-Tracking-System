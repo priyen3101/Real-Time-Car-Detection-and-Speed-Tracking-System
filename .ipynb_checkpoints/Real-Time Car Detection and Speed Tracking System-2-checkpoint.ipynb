{
 "cells": [
  {
   "cell_type": "markdown",
   "id": "ff74bf6e-1e89-4991-ba1a-7f7eaa21e235",
   "metadata": {},
   "source": [
    "### Import Modules"
   ]
  },
  {
   "cell_type": "code",
   "execution_count": null,
   "id": "5d35227d-3681-4af5-a506-ba890049194d",
   "metadata": {},
   "outputs": [],
   "source": [
    "import cv2\n",
    "\n",
    "## only Object Detection\n",
    "from Real_Time_Car_Detection_System import Yolo_Pred\n",
    "\n",
    "## Object Detection and Speed Tracking\n",
    "from Real_Time_Car_Detection_Speed_Tracking_System import Yolo_Pred_With_Speed"
   ]
  },
  {
   "cell_type": "markdown",
   "id": "576006a2-157d-44e6-85dc-5f473ca6482f",
   "metadata": {},
   "source": [
    "### Create YOLO Instance from our Python file "
   ]
  },
  {
   "cell_type": "code",
   "execution_count": null,
   "id": "cf323585-7d6d-43c1-80d7-121cb1540024",
   "metadata": {},
   "outputs": [],
   "source": [
    "yolo=Yolo_Pred('./Model3/weights/best.onnx','data.yaml')"
   ]
  },
  {
   "cell_type": "code",
   "execution_count": null,
   "id": "de4fa1df-ee92-4c2a-b6f2-bc25d023b3ba",
   "metadata": {},
   "outputs": [],
   "source": [
    "yolo_with_speed=Yolo_Pred_With_Speed('./Model3/weights/best.onnx','data.yaml')"
   ]
  },
  {
   "cell_type": "markdown",
   "id": "c2ca9cdf-4d4c-462d-b5f2-57474fe903e7",
   "metadata": {},
   "source": [
    "### Import Image"
   ]
  },
  {
   "cell_type": "code",
   "execution_count": null,
   "id": "13944320-a29b-474c-9130-d379333658ad",
   "metadata": {},
   "outputs": [],
   "source": [
    "img = cv2.imread('street_image_pred.jpg')"
   ]
  },
  {
   "cell_type": "markdown",
   "id": "17c24fd8-38ac-49b0-8fbb-797c9a8cd1a5",
   "metadata": {},
   "source": [
    "### Predict Image"
   ]
  },
  {
   "cell_type": "code",
   "execution_count": null,
   "id": "6ccc4a52-84a4-4e6e-a933-23e12c2b50da",
   "metadata": {},
   "outputs": [],
   "source": [
    "Image=yolo.predictions(img)\n",
    "cv2.imshow('Predicted Image',Image)\n",
    "cv2.waitKey(0)\n",
    "cv2.destroyAllWindows()"
   ]
  },
  {
   "cell_type": "markdown",
   "id": "8523f8cb-1334-479e-a799-e8fbb84f7410",
   "metadata": {},
   "source": [
    "## Real Time Object Detection"
   ]
  },
  {
   "cell_type": "code",
   "execution_count": null,
   "id": "ec9ca84a-3f71-490b-8faf-28304dd53213",
   "metadata": {},
   "outputs": [],
   "source": [
    "cap = cv2.VideoCapture('./Video15.mp4')\n",
    "\n",
    "while True:\n",
    "    ret,frame=cap.read()\n",
    "    if ret== False:\n",
    "        print('Unable to read Video')\n",
    "        break\n",
    "    pred=yolo.predictions(frame)\n",
    "    cv2.imshow('Real Time Detection',pred)\n",
    "    if cv2.waitKey(1)==27:\n",
    "        break\n",
    "cv2.destroyAllWindows()\n",
    "cap.release() "
   ]
  },
  {
   "cell_type": "markdown",
   "id": "922a6a39-8bf1-419a-abea-e812bc5a0523",
   "metadata": {},
   "source": [
    "## Real Time Object Detection And Speed Tracking"
   ]
  },
  {
   "cell_type": "code",
   "execution_count": null,
   "id": "fc075b65-8cca-411f-ada2-4f1052630f5a",
   "metadata": {},
   "outputs": [],
   "source": [
    "cap = cv2.VideoCapture('./Video11.mp4')\n",
    "\n",
    "while True:\n",
    "    ret,frame=cap.read()\n",
    "    if ret== False:\n",
    "        print('Unable to read Video')\n",
    "        break\n",
    "    pred=yolo_with_speed.predictions(frame)\n",
    "    cv2.imshow('Real Time Detection',pred)\n",
    "    if cv2.waitKey(1)==27:\n",
    "        break\n",
    "cv2.destroyAllWindows()\n",
    "cap.release()"
   ]
  }
 ],
 "metadata": {
  "kernelspec": {
   "display_name": "Python 3 (ipykernel)",
   "language": "python",
   "name": "python3"
  },
  "language_info": {
   "codemirror_mode": {
    "name": "ipython",
    "version": 3
   },
   "file_extension": ".py",
   "mimetype": "text/x-python",
   "name": "python",
   "nbconvert_exporter": "python",
   "pygments_lexer": "ipython3",
   "version": "3.12.4"
  }
 },
 "nbformat": 4,
 "nbformat_minor": 5
}
